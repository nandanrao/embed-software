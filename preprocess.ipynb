{
 "cells": [
  {
   "cell_type": "code",
   "execution_count": 1,
   "metadata": {},
   "outputs": [],
   "source": [
    "! pip install --quiet tqdm"
   ]
  },
  {
   "cell_type": "code",
   "execution_count": 2,
   "metadata": {
    "autoscroll": false,
    "ein.tags": "worksheet-0",
    "slideshow": {
     "slide_type": "-"
    }
   },
   "outputs": [],
   "source": [
    "import pandas as pd\n",
    "import os\n",
    "from lib.preprocess import preprocessor\n",
    "from tqdm import tnrange, tqdm_notebook\n",
    "import threading "
   ]
  },
  {
   "cell_type": "code",
   "execution_count": 23,
   "metadata": {
    "autoscroll": false,
    "ein.tags": "worksheet-0",
    "slideshow": {
     "slide_type": "-"
    }
   },
   "outputs": [],
   "source": [
    "def process_readmes(df, pool):\n",
    "    df = df[df.content.notna()].reset_index()\n",
    "    processed = pool.map(preprocessor, df.content)\n",
    "    df['content'] = processed\n",
    "    df = df[df.content.notna()].reset_index()\n",
    "    df['repo_owner'] = df.repo_name.map(lambda s: s.split('/')[0])\n",
    "    return df"
   ]
  },
  {
   "cell_type": "code",
   "execution_count": 26,
   "metadata": {},
   "outputs": [],
   "source": [
    "def process_claims(df, pool):\n",
    "    df = df[df.claims_text.notna()].reset_index()\n",
    "    processed = pool.map(preprocessor, df.claims_text)\n",
    "    df['content'] = processed\n",
    "    df = df[df.content.notna()].reset_index()\n",
    "    return df"
   ]
  },
  {
   "cell_type": "code",
   "execution_count": 11,
   "metadata": {},
   "outputs": [],
   "source": [
    "from  multiprocessing import Pool"
   ]
  },
  {
   "cell_type": "code",
   "execution_count": 20,
   "metadata": {
    "autoscroll": false,
    "ein.tags": "worksheet-0",
    "slideshow": {
     "slide_type": "-"
    }
   },
   "outputs": [],
   "source": [
    "get_files = lambda inpath: list(os.walk(inpath))[0][2]\n",
    "\n",
    "def preprocess(outfile, inpath, fn, id_key):\n",
    "    pool = Pool()\n",
    "    files = get_files(inpath)\n",
    "    dfs = (pd.read_csv('{}/{}'.format(inpath, f)) for f in files)\n",
    "    with open(outfile, 'w') as f:\n",
    "        for df in tqdm_notebook(dfs, total = len(files)):\n",
    "            df = fn(df, pool)\n",
    "            for i,c in zip(df[id_key], df.content):\n",
    "                f.write('{},{}\\n'.format(i,c))\n",
    "    pool.close()\n",
    "    pool.join()"
   ]
  },
  {
   "cell_type": "code",
   "execution_count": null,
   "metadata": {},
   "outputs": [
    {
     "data": {
      "application/vnd.jupyter.widget-view+json": {
       "model_id": "d2719ae213924bf58dc94c27a3ddbe20",
       "version_major": 2,
       "version_minor": 0
      },
      "text/plain": [
       "HBox(children=(IntProgress(value=0, max=156), HTML(value='')))"
      ]
     },
     "metadata": {},
     "output_type": "display_data"
    }
   ],
   "source": [
    "preprocess('claims_lookup.csv',  'oss_bigquery_exports/patent_claims', \n",
    "                                                   process_claims, \n",
    "                                                   'application_number_formatted')"
   ]
  },
  {
   "cell_type": "markdown",
   "metadata": {},
   "source": [
    "## Run for different datas"
   ]
  },
  {
   "cell_type": "code",
   "execution_count": null,
   "metadata": {},
   "outputs": [
    {
     "data": {
      "application/vnd.jupyter.widget-view+json": {
       "model_id": "53dc9103eb514d3e8122d3fa7049b7da",
       "version_major": 2,
       "version_minor": 0
      },
      "text/plain": [
       "HBox(children=(IntProgress(value=0, max=16), HTML(value='')))"
      ]
     },
     "metadata": {},
     "output_type": "display_data"
    }
   ],
   "source": [
    "preprocess('readme_lookup.csv', 'oss_bigquery_exports/readmes', process_readmes, 'id')"
   ]
  },
  {
   "cell_type": "markdown",
   "metadata": {},
   "source": [
    "### Treat owner like collaborative filtering? "
   ]
  },
  {
   "cell_type": "code",
   "execution_count": 101,
   "metadata": {
    "autoscroll": false,
    "ein.tags": "worksheet-0",
    "slideshow": {
     "slide_type": "-"
    }
   },
   "outputs": [],
   "source": [
    "by_owner = df.groupby('repo_owner').apply(lambda df: ' \\t '.join(df.content))"
   ]
  },
  {
   "cell_type": "code",
   "execution_count": 102,
   "metadata": {
    "autoscroll": false,
    "ein.tags": "worksheet-0",
    "slideshow": {
     "slide_type": "-"
    }
   },
   "outputs": [],
   "source": [
    "with open('by_owner.txt', 'w') as f:\n",
    "    for c in by_owner:\n",
    "        f.write(c + '\\n')"
   ]
  }
 ],
 "metadata": {
  "kernelspec": {
   "display_name": "Python 3",
   "language": "python",
   "name": "python3"
  },
  "language_info": {
   "codemirror_mode": {
    "name": "ipython",
    "version": 3
   },
   "file_extension": ".py",
   "mimetype": "text/x-python",
   "name": "python",
   "nbconvert_exporter": "python",
   "pygments_lexer": "ipython3",
   "version": "3.6.5"
  },
  "name": "metric.ipynb"
 },
 "nbformat": 4,
 "nbformat_minor": 2
}
