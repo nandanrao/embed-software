{
 "cells": [
  {
   "cell_type": "code",
   "execution_count": 14,
   "metadata": {
    "autoscroll": false,
    "ein.tags": "worksheet-0",
    "slideshow": {
     "slide_type": "-"
    }
   },
   "outputs": [],
   "source": [
    "import numpy as np\n",
    "from lib.utils import *\n",
    "\n",
    "def get_repo_name(i):\n",
    "    \"\"\"Get id from lookup... then get name from bigquery table? \"\"\"\n",
    "    pass\n",
    "    \n",
    "def predict_ai(model, pos, X):\n",
    "    \"\"\" pos is the positive class vectors, X is the entire dataset \"\"\"    \n",
    "    model.fit(pos)\n",
    "    preds = model.predict(X)\n",
    "    return np.argwhere(preds == 1)"
   ]
  },
  {
   "cell_type": "code",
   "execution_count": 8,
   "metadata": {},
   "outputs": [],
   "source": [
    "size = int(5472100/2)\n",
    "embeddings = get_embeddings('./ss/ss_repo_embeds.txt', size)"
   ]
  },
  {
   "cell_type": "code",
   "execution_count": 10,
   "metadata": {
    "autoscroll": false,
    "ein.tags": "worksheet-0",
    "slideshow": {
     "slide_type": "-"
    }
   },
   "outputs": [],
   "source": [
    "# Get repos from file...\n",
    "repos = [\n",
    "    'GuessWhatGame/vqa',\n",
    "    'gitlimlab/SSGAN-Tensorflow',\n",
    "    'mufarhan/sequence_class_NIPS_2017',\n",
    "    'KeiraZhao/SPN',\n",
    "    'ap229997/Conditional-Batch-Norm'\n",
    "]\n",
    "\n",
    "write_ai_readmes(repos, 'prepared-readmes/ai-readmes.txt')"
   ]
  },
  {
   "cell_type": "code",
   "execution_count": 5,
   "metadata": {},
   "outputs": [],
   "source": [
    "# USE STARSPACE TO WRITE VECTORS FROM THESE TEXTS\n",
    "# bash scripts/embed-ai-readmes.sh prepared-readmes/ai-readmes.txt ss/ai-vectors.txt"
   ]
  },
  {
   "cell_type": "code",
   "execution_count": null,
   "metadata": {
    "scrolled": false
   },
   "outputs": [],
   "source": [
    "from sklearn.svm import OneClassSVM\n",
    "\n",
    "vecs = get_ss_embed('ss/ai-vectors.txt')\n",
    "svm = OneClassSVM()\n",
    "pos = predict_ai(svm, vecs, embeddings)\n",
    "\n",
    "np.random.shuffle(pos)\n",
    "\n",
    "for p in pos[0:30]: \n",
    "    print(get_sentence(p[0]))"
   ]
  }
 ],
 "metadata": {
  "kernelspec": {
   "display_name": "Python 3",
   "language": "python",
   "name": "python3"
  },
  "language_info": {
   "codemirror_mode": {
    "name": "ipython",
    "version": 3
   },
   "file_extension": ".py",
   "mimetype": "text/x-python",
   "name": "python",
   "nbconvert_exporter": "python",
   "pygments_lexer": "ipython3",
   "version": "3.6.5"
  },
  "name": "Untitled.ipynb"
 },
 "nbformat": 4,
 "nbformat_minor": 2
}
