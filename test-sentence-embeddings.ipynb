{
 "cells": [
  {
   "cell_type": "code",
   "execution_count": 1,
   "metadata": {
    "autoscroll": false,
    "ein.tags": "worksheet-0",
    "slideshow": {
     "slide_type": "-"
    }
   },
   "outputs": [],
   "source": [
    "import numpy as np\n",
    "from lib.utils import *\n",
    "\n",
    "def get_repo_name(i):\n",
    "    \"\"\"Get id from lookup... then get name from bigquery table? \"\"\"\n",
    "    pass\n",
    "    \n",
    "def predict_ai(model, pos, X):\n",
    "    \"\"\" pos is the positive class vectors, X is the entire dataset \"\"\"    \n",
    "    model.fit(pos)\n",
    "    preds = model.predict(X)\n",
    "    return np.argwhere(preds == 1)\n",
    "\n",
    "def print_random(pos, amt=30):\n",
    "    np.random.shuffle(pos)\n",
    "    for p in pos[0:30]: \n",
    "        print(get_sentence(p[0]))"
   ]
  },
  {
   "cell_type": "code",
   "execution_count": 2,
   "metadata": {},
   "outputs": [],
   "source": [
    "size = int(5472100/2)\n",
    "embeddings = get_embeddings('./ss/ss_repo_embeds.txt', size)"
   ]
  },
  {
   "cell_type": "code",
   "execution_count": null,
   "metadata": {
    "autoscroll": false,
    "ein.tags": "worksheet-0",
    "slideshow": {
     "slide_type": "-"
    }
   },
   "outputs": [],
   "source": [
    "# repos = [\n",
    "#     'GuessWhatGame/vqa',\n",
    "#     'gitlimlab/SSGAN-Tensorflow',\n",
    "#     'mufarhan/sequence_class_NIPS_2017',\n",
    "#     'KeiraZhao/SPN',\n",
    "#     'ap229997/Conditional-Batch-Norm'\n",
    "# ]\n",
    "\n",
    "with open('old_nips_repos.txt', 'r') as f: \n",
    "    repos = [l.strip() for i,l in enumerate(f)]\n",
    "        \n",
    "write_ai_readmes(repos, 'prepared-readmes/old-ai-readmes.txt')"
   ]
  },
  {
   "cell_type": "code",
   "execution_count": 5,
   "metadata": {},
   "outputs": [],
   "source": [
    "# USE STARSPACE TO WRITE VECTORS FROM THESE TEXTS\n",
    "# bash scripts/embed-ai-readmes.sh prepared-readmes/ai-readmes.txt ss/ai-vectors.txt"
   ]
  },
  {
   "cell_type": "code",
   "execution_count": null,
   "metadata": {},
   "outputs": [],
   "source": [
    "vecs = get_ss_embed('ss/old-ai-vectors.txt')"
   ]
  },
  {
   "cell_type": "markdown",
   "metadata": {},
   "source": [
    "## Visualize Embedded Space"
   ]
  },
  {
   "cell_type": "code",
   "execution_count": null,
   "metadata": {},
   "outputs": [],
   "source": [
    "from sklearn.manifold import MDS, Isomap"
   ]
  },
  {
   "cell_type": "markdown",
   "metadata": {},
   "source": [
    "## One-Class SVM"
   ]
  },
  {
   "cell_type": "code",
   "execution_count": 24,
   "metadata": {
    "scrolled": false
   },
   "outputs": [],
   "source": [
    "from sklearn.svm import OneClassSVM\n",
    "\n",
    "svm = OneClassSVM(gamma = 1/10)\n",
    "pos = predict_ai(svm, vecs, embeddings)"
   ]
  },
  {
   "cell_type": "code",
   "execution_count": null,
   "metadata": {},
   "outputs": [],
   "source": [
    "print_random(pos)"
   ]
  },
  {
   "cell_type": "code",
   "execution_count": 26,
   "metadata": {},
   "outputs": [
    {
     "data": {
      "text/plain": [
       "(73, 5851)"
      ]
     },
     "execution_count": 26,
     "metadata": {},
     "output_type": "execute_result"
    }
   ],
   "source": [
    "len(vecs), len(pos)"
   ]
  },
  {
   "cell_type": "markdown",
   "metadata": {},
   "source": [
    "## Isolation Forest"
   ]
  },
  {
   "cell_type": "code",
   "execution_count": null,
   "metadata": {},
   "outputs": [],
   "source": [
    "from sklearn.ensemble import IsolationForest\n",
    "\n",
    "forest = IsolationForest()\n",
    "pos = predict_ai(forest, vecs, embeddings)"
   ]
  },
  {
   "cell_type": "code",
   "execution_count": null,
   "metadata": {},
   "outputs": [],
   "source": [
    "len(vecs), len(pos)"
   ]
  },
  {
   "cell_type": "code",
   "execution_count": null,
   "metadata": {},
   "outputs": [],
   "source": [
    "print_random(pos)"
   ]
  }
 ],
 "metadata": {
  "kernelspec": {
   "display_name": "Python 3",
   "language": "python",
   "name": "python3"
  },
  "language_info": {
   "codemirror_mode": {
    "name": "ipython",
    "version": 3
   },
   "file_extension": ".py",
   "mimetype": "text/x-python",
   "name": "python",
   "nbconvert_exporter": "python",
   "pygments_lexer": "ipython3",
   "version": "3.6.5"
  },
  "name": "Untitled.ipynb"
 },
 "nbformat": 4,
 "nbformat_minor": 2
}
