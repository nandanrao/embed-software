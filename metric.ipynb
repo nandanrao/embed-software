{
 "cells": [
  {
   "cell_type": "code",
   "execution_count": 87,
   "metadata": {
    "autoscroll": false,
    "collapsed": false,
    "ein.tags": "worksheet-0",
    "slideshow": {
     "slide_type": "-"
    }
   },
   "outputs": [],
   "source": [
    "! pip install -U -q gensim"
   ]
  },
  {
   "cell_type": "code",
   "execution_count": 1,
   "metadata": {
    "autoscroll": false,
    "collapsed": false,
    "ein.tags": "worksheet-0",
    "slideshow": {
     "slide_type": "-"
    }
   },
   "outputs": [
    {
     "name": "stderr",
     "output_type": "stream",
     "text": [
      "/opt/conda/lib/python3.6/importlib/_bootstrap.py:219: RuntimeWarning: numpy.dtype size changed, may indicate binary incompatibility. Expected 96, got 88\n",
      "  return f(*args, **kwds)\n",
      "/opt/conda/lib/python3.6/importlib/_bootstrap.py:219: RuntimeWarning: numpy.dtype size changed, may indicate binary incompatibility. Expected 96, got 88\n",
      "  return f(*args, **kwds)\n",
      "/opt/conda/lib/python3.6/importlib/_bootstrap.py:219: RuntimeWarning: numpy.dtype size changed, may indicate binary incompatibility. Expected 96, got 88\n",
      "  return f(*args, **kwds)\n",
      "/opt/conda/lib/python3.6/importlib/_bootstrap.py:219: RuntimeWarning: numpy.dtype size changed, may indicate binary incompatibility. Expected 96, got 88\n",
      "  return f(*args, **kwds)\n"
     ]
    }
   ],
   "source": [
    "import pandas as pd\n",
    "import os\n"
   ]
  },
  {
   "cell_type": "code",
   "execution_count": 2,
   "metadata": {
    "autoscroll": false,
    "collapsed": false,
    "ein.tags": "worksheet-0",
    "slideshow": {
     "slide_type": "-"
    }
   },
   "outputs": [],
   "source": [
    "path = './oss_bigquery_exports/readmes'\n",
    "files = list(os.walk(path))[0][2]"
   ]
  },
  {
   "cell_type": "code",
   "execution_count": 3,
   "metadata": {
    "autoscroll": false,
    "collapsed": false,
    "ein.tags": "worksheet-0",
    "slideshow": {
     "slide_type": "-"
    }
   },
   "outputs": [],
   "source": [
    "df = pd.read_csv('{}/{}'.format(path, files[0]))"
   ]
  },
  {
   "cell_type": "code",
   "execution_count": 4,
   "metadata": {
    "autoscroll": false,
    "collapsed": false,
    "ein.tags": "worksheet-0",
    "slideshow": {
     "slide_type": "-"
    }
   },
   "outputs": [],
   "source": [
    "import re\n",
    "from sklearn.feature_extraction.text import strip_accents_ascii, strip_tags\n",
    "\n",
    "headlines = re.compile(r\"#+\\s*[^\\n]+\\n\")\n",
    "md_links = re.compile('\\[[^\\]]+\\]\\([^\\)]+\\)')\n",
    "sentance = re.compile(r\"\\.\\s+\")\n",
    "links = re.compile(r\"https?://[^\\s]+\")\n",
    "code_ticks = re.compile(r\"``?`?[^`]+``?`?\")\n",
    "token_pattern = re.compile(r\"(?u)\\b\\w\\w+\\b\")\n",
    "tokenizer = lambda doc: token_pattern.findall(doc)\n",
    "underscore = re.compile(r\"\\w*_\\w*\")\n",
    "space = re.compile(r'\\s+')\n",
    "\n",
    "\n",
    "def preprocessor(s):\n",
    "\n",
    "    # Capitalization won't help us\n",
    "    s = s.lower()\n",
    "\n",
    "    # Remove code and markdown headlines\n",
    "    s = re.sub(code_ticks, '', s)    \n",
    "    s = re.sub(headlines, '', s)\n",
    "    s = re.sub(md_links, '', s)\n",
    "    s = re.sub(links, '', s)\n",
    "\n",
    "    # ASCII our text and remove html tags\n",
    "    s = strip_accents_ascii(s)\n",
    "    s = strip_tags(s)\n",
    "\n",
    "    # Underscores imply variable names, which are\n",
    "    # never useful. Get rid of anything in camelcase? \n",
    "    s = re.sub(underscore, '', s)\n",
    "\n",
    "\n",
    "    # Split on sentances, tokenize within the sentance, then replace \n",
    "    # sentance with \\t separator for starspace/fasttext\n",
    "    s = [i for i in sentance.split(s)]\n",
    "    s = [' '.join(tokenizer(i)) for i in s]\n",
    "    s = '\\t'.join([i for i in s if i])\n",
    "\n",
    "    # Get rid of useless little readmes\n",
    "    if len(space.split(s)) < 4:\n",
    "        return None\n",
    "\n",
    "    return s"
   ]
  },
  {
   "cell_type": "code",
   "execution_count": 5,
   "metadata": {
    "autoscroll": false,
    "collapsed": false,
    "ein.tags": "worksheet-0",
    "slideshow": {
     "slide_type": "-"
    }
   },
   "outputs": [],
   "source": [
    "def process_df(df):\n",
    "    df = df[df.content.notna()].reset_index()\n",
    "    df['content'] = df.content.map(preprocessor)\n",
    "    df = df[df.content.notna()].reset_index()\n",
    "    df['repo_owner'] = df.repo_name.map(lambda s: s.split('/')[0])\n",
    "    return df"
   ]
  },
  {
   "cell_type": "code",
   "execution_count": 6,
   "metadata": {
    "autoscroll": false,
    "collapsed": false,
    "ein.tags": "worksheet-0",
    "slideshow": {
     "slide_type": "-"
    }
   },
   "outputs": [],
   "source": [
    "dfs = (pd.read_csv('{}/{}'.format(path, f)) for f in files)"
   ]
  },
  {
   "cell_type": "code",
   "execution_count": null,
   "metadata": {
    "autoscroll": false,
    "collapsed": false,
    "ein.tags": "worksheet-0",
    "slideshow": {
     "slide_type": "-"
    }
   },
   "outputs": [],
   "source": [
    "with open('file_lookup.csv', 'w') as f:\n",
    "    for df in dfs:\n",
    "        df = process_df(df)\n",
    "        for i,c in zip(df.id, df.content):\n",
    "            f.write('{},{}\\n'.format(i,c))"
   ]
  },
  {
   "cell_type": "code",
   "execution_count": 101,
   "metadata": {
    "autoscroll": false,
    "collapsed": false,
    "ein.tags": "worksheet-0",
    "slideshow": {
     "slide_type": "-"
    }
   },
   "outputs": [],
   "source": [
    "by_owner = df.groupby('repo_owner').apply(lambda df: ' \\t '.join(df.content))"
   ]
  },
  {
   "cell_type": "code",
   "execution_count": 102,
   "metadata": {
    "autoscroll": false,
    "collapsed": false,
    "ein.tags": "worksheet-0",
    "slideshow": {
     "slide_type": "-"
    }
   },
   "outputs": [],
   "source": [
    "with open('by_owner.txt', 'w') as f:\n",
    "    for c in by_owner:\n",
    "        f.write(c + '\\n')"
   ]
  }
 ],
 "metadata": {
  "kernelspec": {
   "display_name": "Python 3",
   "name": "python3"
  },
  "language_info": {
   "codemirror_mode": {
    "name": "ipython",
    "version": 3
   },
   "file_extension": ".py",
   "mimetype": "text/x-python",
   "name": "python",
   "nbconvert_exporter": "python",
   "pygments_lexer": "ipython3",
   "version": "3.6.5"
  },
  "name": "metric.ipynb"
 },
 "nbformat": 4,
 "nbformat_minor": 2
}
